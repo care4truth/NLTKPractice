{
 "cells": [
  {
   "cell_type": "code",
   "execution_count": 1,
   "metadata": {
    "collapsed": true
   },
   "outputs": [],
   "source": [
    "import urllib2\n",
    "from bs4 import BeautifulSoup\n",
    "articleURL = \"https://www.washingtonpost.com/news/the-switch/wp/2016/10/18/the-pentagons-massive-new-telescope-is-designed-to-track-space-junk-and-watch-out-for-killer-asteroids/?utm_term=.f41bf58f307d\"\n",
    "def getTextWaPo(url) :\n",
    "    page = urllib2.urlopen(url).read().decode('utf8', 'ignore')\n",
    "    soup = BeautifulSoup(page,\"lxml\")\n",
    "    text = ' '.join(map(lambda p: p.text, soup.find_all('article')))\n",
    "    return text.encode('ascii', errors='replace').replace(\"?\",\" \")\n",
    "    \n",
    "    \n",
    "    \n",
    "    "
   ]
  },
  {
   "cell_type": "code",
   "execution_count": 3,
   "metadata": {},
   "outputs": [
    {
     "data": {
      "text/plain": [
       "\"      The Space Surveillance Telescope offers improvements in determining the orbits of newly discovered objects and provides rapid observations of events that may only occur over a relatively short period of time, like a supernova. (DARPAtv)   There are a lot of rocks flying around through space. Lots of debris, too. Old satellites, spent rocket boosters, even for a short while a spatula that got loose during a space shuttle mission in 2006. All of it swirling around in orbit, creating a bit of a traffic jam. For years, the Pentagon has been worried about the collisions that might be caused by an estimated 500,000 pieces of debris, taking out enormously valuable satellites and, in turn, creating even more debris. On Tuesday, the Defense Department took another significant step toward monitoring all of the cosmic junk swirling around in space, by delivering a gigantic new telescope capable of seeing small objects from very far away. Developed by the Defense Advanced Research Project Agency, the Space Surveillance Telescope was formally transferred to the Air Force during a ceremony at White Sands Missile Base in New Mexico Tuesday. The telescope is designed to monitor objects as small as softballs, in Geosynchonous orbit (GEO) some of the most important real estate in space. At about 22,000 miles away, its orbit mirrors that of the Earth, so that satellites parked there remain in a fixed point over the globe. That allows satellite television or communications providers to serve particular areas say, North America or Asia uninterrupted. But not only is the orbit far away it s incredibly vast.  A volume of tens of thousands of oceans,  said Lindsay Millard, DARPA s program manager in a podcast posted on the agency s website. But the telescope's ability to see  something very far away over a very wide area is really what it s best at.  DARPA says the advanced technology in the massive, 90-ton telescope would allow officials to go from  seeing only a few large objects at a time through the equivalent of a drinking straw to a windshield view with 10,000 objects at a time.  It is also being used by NASA to monitor asteroids and other near-Earth objects that could collide with the planet, officials said. Over the next two years, the telescope is going to be moved and reconstructed in Australia, a vantage point that would allow it to survey an under served area of space. The telescope is  a big improvement over the legacy ground-based optical telescopes that are used by the U.S. Air Force, because it can search large areas of sky and also track very faint (small) objects in and around GEO,  Brian Weeden, a Technical Advisor at the Secure World Foundation, wrote in an email.  That's a critical capability for the U.S. military, as they have a lot of very important satellites in GEO, and are increasingly worried about threats to those satellites.  The telescope would join another new space debris tracking technology known as the Space Fence, which is now being built by Bethesda-based Lockheed Martin. The radar system is going to be located on Kwajalein Atoll in the Marshall Islands and would use radar to help the Air Force track 10 times amount of debris than it currently monitors. With many valuable assets in space satellites used for intelligence, communications and guiding weapons the Pentagon has become increasingly concerned with what it calls  space situational awareness.  Instead of being a benign environment, the Pentagon likes to say that space has become  contested, congested and competitive.  In orbit, debris moves very fast, as much as 17,500 m.p.h., so that even a fleck of paint could cause damage. In 2007, the Chinese fired a missile that blew up a dead satellite and littered space with thousands of pieces of debris. And the Air Force has been working to make its satellites more resilient. It has plans to send swarms of small satellites into orbit that are more difficult to target.  Every military operation that takes place in the world today is critically dependent on space in one way or another,  Air Force Gen. John Hyten said in an interview earlier this year when he was the commander of the Air Force Space Command.  Whether our own people in the United States are fully cognizant of the dependence on space or not, the rest of the world has been watching us very closely. \""
      ]
     },
     "execution_count": 3,
     "metadata": {},
     "output_type": "execute_result"
    }
   ],
   "source": [
    "text = getTextWaPo(articleURL)\n",
    "text"
   ]
  },
  {
   "cell_type": "code",
   "execution_count": 20,
   "metadata": {},
   "outputs": [],
   "source": [
    "from nltk import word_tokenize , sent_tokenize\n",
    "from nltk.corpus import stopwords\n",
    "from string import punctuation\n",
    "from heapq import nlargest\n",
    "from nltk.probability import FreqDist \n",
    "from collections import defaultdict\n",
    "def summarize(text,n):\n",
    "    sents = sent_tokenize(text)\n",
    "    \n",
    "    assert n <= len(sents)\n",
    "    word_sent = word_tokenize(text.lower())\n",
    "    _stopwords = set(stopwords.words('english') + list(punctuation))\n",
    "    word_sent = [word for word in word_sent if word not in _stopwords]\n",
    "    freq = FreqDist(word_sent)\n",
    "    \n",
    "    ranking = defaultdict(int)\n",
    "    for i,sent in enumerate(sents) :\n",
    "        for w in word_tokenize(sent.lower()) :\n",
    "                if w in freq:\n",
    "                    ranking[i] += freq[w]\n",
    "    sents_idx = nlargest(n, ranking, key=ranking.get)\n",
    "    return [sents[j] for j in sorted(sents_idx)]\n"
   ]
  },
  {
   "cell_type": "code",
   "execution_count": 21,
   "metadata": {},
   "outputs": [
    {
     "data": {
      "text/plain": [
       "['On Tuesday, the Defense Department took another significant step toward monitoring all of the cosmic junk swirling around in space, by delivering a gigantic new telescope capable of seeing small objects from very far away.',\n",
       " 'The telescope is  a big improvement over the legacy ground-based optical telescopes that are used by the U.S. Air Force, because it can search large areas of sky and also track very faint (small) objects in and around GEO,  Brian Weeden, a Technical Advisor at the Secure World Foundation, wrote in an email.',\n",
       " 'Every military operation that takes place in the world today is critically dependent on space in one way or another,  Air Force Gen. John Hyten said in an interview earlier this year when he was the commander of the Air Force Space Command.']"
      ]
     },
     "execution_count": 21,
     "metadata": {},
     "output_type": "execute_result"
    }
   ],
   "source": [
    "summarize(text,3)"
   ]
  },
  {
   "cell_type": "code",
   "execution_count": null,
   "metadata": {
    "collapsed": true
   },
   "outputs": [],
   "source": []
  }
 ],
 "metadata": {
  "kernelspec": {
   "display_name": "Python 2",
   "language": "python",
   "name": "python2"
  },
  "language_info": {
   "codemirror_mode": {
    "name": "ipython",
    "version": 2
   },
   "file_extension": ".py",
   "mimetype": "text/x-python",
   "name": "python",
   "nbconvert_exporter": "python",
   "pygments_lexer": "ipython2",
   "version": "2.7.13"
  }
 },
 "nbformat": 4,
 "nbformat_minor": 2
}
